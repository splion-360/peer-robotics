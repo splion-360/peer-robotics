{
 "cells": [
  {
   "cell_type": "code",
   "execution_count": 1,
   "id": "3258eb32-d0c6-4204-887e-6f049f3f8822",
   "metadata": {},
   "outputs": [],
   "source": [
    "import torch \n",
    "import os\n",
    "from torch.quantization import fuse_modules\n",
    "import numpy as np"
   ]
  },
  {
   "cell_type": "code",
   "execution_count": 2,
   "id": "48bab618-ebc6-4f28-bcae-d30b2ec16ece",
   "metadata": {},
   "outputs": [
    {
     "name": "stderr",
     "output_type": "stream",
     "text": [
      "/home/splion360/anaconda3/envs/pr/lib/python3.8/site-packages/torchvision/models/_utils.py:208: UserWarning: The parameter 'pretrained' is deprecated since 0.13 and may be removed in the future, please use 'weights' instead.\n",
      "  warnings.warn(\n",
      "/home/splion360/anaconda3/envs/pr/lib/python3.8/site-packages/torchvision/models/_utils.py:223: UserWarning: Arguments other than a weight enum or `None` for 'weights' are deprecated since 0.13 and may be removed in the future. The current behavior is equivalent to passing `weights=VGG16_Weights.IMAGENET1K_V1`. You can also use `weights=VGG16_Weights.DEFAULT` to get the most up-to-date weights.\n",
      "  warnings.warn(msg)\n"
     ]
    }
   ],
   "source": [
    "from model import SegNet\n",
    "\n",
    "device = torch.device('cuda:{}'.format(0) if torch.cuda.is_available() else 'cpu')\n",
    "model = SegNet(3, 1).to(device)\n",
    "\n",
    "def load_model(weight_path):\n",
    "    print('Loading model weights from {}'.format(weight_path))\n",
    "    last_weight = os.path.join(weight_path, \"best.pt\")\n",
    "    chkpt = torch.load(last_weight, map_location = device)\n",
    "    model.load_state_dict(chkpt['model'])\n",
    "    del chkpt"
   ]
  },
  {
   "cell_type": "code",
   "execution_count": 3,
   "id": "6623f551-6899-4037-882d-1d0b4fccf600",
   "metadata": {},
   "outputs": [
    {
     "name": "stdout",
     "output_type": "stream",
     "text": [
      "Loading model weights from ./weights\n"
     ]
    }
   ],
   "source": [
    "load_model('./weights')"
   ]
  },
  {
   "cell_type": "code",
   "execution_count": 4,
   "id": "40779634-57a8-47e3-a349-844be3d9d9fb",
   "metadata": {},
   "outputs": [],
   "source": [
    "def get_model_size(model):\n",
    "    param_size = 0\n",
    "    for param in model.parameters():\n",
    "        param_size += param.nelement() * param.element_size()\n",
    "    buffer_size = 0\n",
    "    for buffer in model.buffers():\n",
    "        buffer_size += buffer.nelement() * buffer.element_size()\n",
    "    \n",
    "    size_all_mb = (param_size + buffer_size) / 1024**2\n",
    "    print('model size: {:.3f}MB'.format(size_all_mb))\n"
   ]
  },
  {
   "cell_type": "code",
   "execution_count": 5,
   "id": "5198987d-b130-46b0-97b4-85a7bfad1706",
   "metadata": {},
   "outputs": [
    {
     "name": "stdout",
     "output_type": "stream",
     "text": [
      "model size: 640.171MB\n"
     ]
    }
   ],
   "source": [
    "get_model_size(model)"
   ]
  },
  {
   "cell_type": "code",
   "execution_count": 6,
   "id": "273ca1b2-2510-4920-8e7a-413844dff1b1",
   "metadata": {},
   "outputs": [],
   "source": [
    "quant_model = torch.quantization.quantize_dynamic(model, {torch.nn.Linear})"
   ]
  },
  {
   "cell_type": "code",
   "execution_count": 7,
   "id": "693226dc-22f9-475b-870f-a3071e2c2264",
   "metadata": {},
   "outputs": [
    {
     "name": "stdout",
     "output_type": "stream",
     "text": [
      "model size: 168.511MB\n"
     ]
    }
   ],
   "source": [
    "get_model_size(quant_model)"
   ]
  },
  {
   "cell_type": "code",
   "execution_count": 8,
   "id": "2cdb786d-0343-4860-8939-3d4cc80fa990",
   "metadata": {},
   "outputs": [
    {
     "name": "stderr",
     "output_type": "stream",
     "text": [
      "/home/splion360/anaconda3/envs/pr/lib/python3.8/site-packages/albumentations/__init__.py:13: UserWarning: A new version of Albumentations is available: 1.4.21 (you have 1.4.18). Upgrade using: pip install -U albumentations. To disable automatic update checks, set the environment variable NO_ALBUMENTATIONS_UPDATE to 1.\n",
      "  check_for_updates()\n"
     ]
    }
   ],
   "source": [
    "from get_data import get_data_loaders\n",
    "import torch.nn as nn\n",
    "import utils\n",
    "_, _ , test_loader = get_data_loaders(\"./data\", 416, 416, device) \n",
    "\n",
    "\n",
    "def get_model_perform(model):\n",
    "    iou_thresh = [0.5, 0.95, 0.05]\n",
    "    evaluator = utils.Metrics(model, iou_thresh, device)\n",
    "    criterion = nn.BCEWithLogitsLoss()\n",
    "    with torch.no_grad():\n",
    "        val_loss, acc, dice, iou, mAP = evaluator(test_loader, criterion)\n",
    "        s = ('test loss : %.3f, Accuracy : %.3f  Dice : %.3f  IoU : %.3f mAP@[%.2f | %.2f | %.2f] : %.3f') % (val_loss, acc.item(), dice.item(), iou.item(), iou_thresh[0],\n",
    "                                                                                            iou_thresh[2], iou_thresh[1], mAP.item())\n",
    "        print(s)\n",
    "\n"
   ]
  },
  {
   "cell_type": "code",
   "execution_count": null,
   "id": "dfd4b361-6011-44a5-8906-ef4fd2a1ec33",
   "metadata": {},
   "outputs": [],
   "source": [
    "get_model_perform(model)"
   ]
  },
  {
   "cell_type": "code",
   "execution_count": null,
   "id": "67de4b4c-727a-4131-8607-7d6812579ecc",
   "metadata": {},
   "outputs": [],
   "source": [
    "get_model_perform(quant_model)"
   ]
  },
  {
   "cell_type": "code",
   "execution_count": 9,
   "id": "7477ed0b-83f5-4c30-9c55-3a54a82ae7eb",
   "metadata": {},
   "outputs": [],
   "source": [
    "from model import ConvBlock\n",
    "def fuse_layers(module):\n",
    "    for idx, block in enumerate(module.layers):\n",
    "        if isinstance(block, ConvBlock):\n",
    "            fuse_list = ['conv', 'bn', 'relu']  # These layers will be fused\n",
    "            fuse_modules(block, fuse_list, inplace=True)\n"
   ]
  },
  {
   "cell_type": "code",
   "execution_count": 10,
   "id": "fb3d3abf-745b-4d85-8318-7e3f19739a43",
   "metadata": {},
   "outputs": [],
   "source": [
    "# Static quantization of a model consists of the following steps:\n",
    "\n",
    "#     Fuse modules\n",
    "#     Insert Quant/DeQuant Stubs\n",
    "#     Prepare the fused module (insert observers before and after layers)\n",
    "#     Calibrate the prepared module (pass it representative data)\n",
    "#     Convert the calibrated module (replace with quantized version)\n",
    "\n",
    "import torch\n",
    "from torch import nn\n",
    "import copy\n",
    "\n",
    "backend = \"fbgemm\"  # running on a x86 CPU. Use \"qnnpack\" if running on ARM.\n",
    "\n",
    "m = copy.deepcopy(model)\n",
    "m.eval()\n",
    "\n",
    "\"\"\"Fuse\n",
    "- Inplace fusion replaces the first module in the sequence with the fused module, and the rest with identity modules\n",
    "\"\"\"\n",
    "# Apply fusion to all encoder and decoder layers\n",
    "for encoder in m.encoder:\n",
    "    fuse_layers(encoder)\n",
    "\n",
    "for decoder in m.decoder:\n",
    "    fuse_layers(decoder)\n",
    "# torch.quantization.fuse_modules(m, ['conv','bn', 'relu'], inplace=True) # fuse first Conv-ReLU pair\n",
    "\n",
    "\n",
    "# \"\"\"Insert stubs\"\"\"\n",
    "# m = nn.Sequential(torch.quantization.QuantStub(), \n",
    "#                   *m, \n",
    "#                   torch.quantization.DeQuantStub())\n",
    "\n",
    "# \"\"\"Prepare\"\"\"\n",
    "# m.qconfig = torch.quantization.get_default_qconfig(backend)\n",
    "# torch.quantization.prepare(m, inplace=True)\n",
    "\n",
    "# \"\"\"Calibrate\n",
    "# - This example uses random data for convenience. Use representative (validation) data instead.\n",
    "# \"\"\"\n",
    "# with torch.inference_mode():\n",
    "#   for _ in range(10):\n",
    "#     x = torch.rand(1,2, 28, 28)\n",
    "#     m(x)\n",
    "    \n",
    "# \"\"\"Convert\"\"\"\n",
    "# torch.quantization.convert(m, inplace=True)\n",
    "\n",
    "# \"\"\"Check\"\"\"\n",
    "# print(m[[1]].weight().element_size()) # 1 byte instead of 4 bytes for FP32\n",
    "\n",
    "\n",
    "# ## FX GRAPH\n",
    "# from torch.quantization import quantize_fx\n",
    "# m = copy.deepcopy(model)\n",
    "# m.eval()\n",
    "# qconfig_dict = {\"\": torch.quantization.get_default_qconfig(backend)}\n",
    "# # Prepare\n",
    "# model_prepared = quantize_fx.prepare_fx(m, qconfig_dict)\n",
    "# # Calibrate - Use representative (validation) data.\n",
    "# with torch.inference_mode():\n",
    "#   for _ in range(10):\n",
    "#     x = torch.rand(1,2,28, 28)\n",
    "#     model_prepared(x)\n",
    "# # quantize\n",
    "# model_quantized = quantize_fx.convert_fx(model_prepared)"
   ]
  },
  {
   "cell_type": "code",
   "execution_count": 13,
   "id": "68088007-1144-4f84-887a-1da09b71079f",
   "metadata": {},
   "outputs": [
    {
     "data": {
      "text/plain": [
       "ModuleList(\n",
       "  (0): Decoder(\n",
       "    (layers): ModuleList(\n",
       "      (0-2): 3 x ConvTBlock(\n",
       "        (convT): ConvTranspose2d(512, 512, kernel_size=(3, 3), stride=(1, 1), padding=(1, 1))\n",
       "        (bn): BatchNorm2d(512, eps=1e-05, momentum=0.1, affine=True, track_running_stats=True)\n",
       "        (relu): ReLU()\n",
       "      )\n",
       "    )\n",
       "  )\n",
       "  (1): Decoder(\n",
       "    (layers): ModuleList(\n",
       "      (0-1): 2 x ConvTBlock(\n",
       "        (convT): ConvTranspose2d(512, 512, kernel_size=(3, 3), stride=(1, 1), padding=(1, 1))\n",
       "        (bn): BatchNorm2d(512, eps=1e-05, momentum=0.1, affine=True, track_running_stats=True)\n",
       "        (relu): ReLU()\n",
       "      )\n",
       "      (2): ConvTBlock(\n",
       "        (convT): ConvTranspose2d(512, 256, kernel_size=(3, 3), stride=(1, 1), padding=(1, 1))\n",
       "        (bn): BatchNorm2d(256, eps=1e-05, momentum=0.1, affine=True, track_running_stats=True)\n",
       "        (relu): ReLU()\n",
       "      )\n",
       "    )\n",
       "  )\n",
       "  (2): Decoder(\n",
       "    (layers): ModuleList(\n",
       "      (0-1): 2 x ConvTBlock(\n",
       "        (convT): ConvTranspose2d(256, 256, kernel_size=(3, 3), stride=(1, 1), padding=(1, 1))\n",
       "        (bn): BatchNorm2d(256, eps=1e-05, momentum=0.1, affine=True, track_running_stats=True)\n",
       "        (relu): ReLU()\n",
       "      )\n",
       "      (2): ConvTBlock(\n",
       "        (convT): ConvTranspose2d(256, 128, kernel_size=(3, 3), stride=(1, 1), padding=(1, 1))\n",
       "        (bn): BatchNorm2d(128, eps=1e-05, momentum=0.1, affine=True, track_running_stats=True)\n",
       "        (relu): ReLU()\n",
       "      )\n",
       "    )\n",
       "  )\n",
       "  (3): Decoder(\n",
       "    (layers): ModuleList(\n",
       "      (0): ConvTBlock(\n",
       "        (convT): ConvTranspose2d(128, 128, kernel_size=(3, 3), stride=(1, 1), padding=(1, 1))\n",
       "        (bn): BatchNorm2d(128, eps=1e-05, momentum=0.1, affine=True, track_running_stats=True)\n",
       "        (relu): ReLU()\n",
       "      )\n",
       "      (1): ConvTBlock(\n",
       "        (convT): ConvTranspose2d(128, 64, kernel_size=(3, 3), stride=(1, 1), padding=(1, 1))\n",
       "        (bn): BatchNorm2d(64, eps=1e-05, momentum=0.1, affine=True, track_running_stats=True)\n",
       "        (relu): ReLU()\n",
       "      )\n",
       "    )\n",
       "  )\n",
       "  (4): Decoder(\n",
       "    (layers): ModuleList(\n",
       "      (0): ConvTBlock(\n",
       "        (convT): ConvTranspose2d(64, 64, kernel_size=(3, 3), stride=(1, 1), padding=(1, 1))\n",
       "        (bn): BatchNorm2d(64, eps=1e-05, momentum=0.1, affine=True, track_running_stats=True)\n",
       "        (relu): ReLU()\n",
       "      )\n",
       "      (1): ConvTBlock(\n",
       "        (convT): ConvTranspose2d(64, 1, kernel_size=(3, 3), stride=(1, 1), padding=(1, 1))\n",
       "        (bn): BatchNorm2d(1, eps=1e-05, momentum=0.1, affine=True, track_running_stats=True)\n",
       "        (relu): ReLU()\n",
       "      )\n",
       "    )\n",
       "  )\n",
       ")"
      ]
     },
     "execution_count": 13,
     "metadata": {},
     "output_type": "execute_result"
    }
   ],
   "source": [
    "m.decoder"
   ]
  },
  {
   "cell_type": "code",
   "execution_count": null,
   "id": "b9579894-6318-4937-adc0-546244a64a26",
   "metadata": {},
   "outputs": [],
   "source": []
  }
 ],
 "metadata": {
  "kernelspec": {
   "display_name": "Python 3 (ipykernel)",
   "language": "python",
   "name": "python3"
  },
  "language_info": {
   "codemirror_mode": {
    "name": "ipython",
    "version": 3
   },
   "file_extension": ".py",
   "mimetype": "text/x-python",
   "name": "python",
   "nbconvert_exporter": "python",
   "pygments_lexer": "ipython3",
   "version": "3.8.20"
  }
 },
 "nbformat": 4,
 "nbformat_minor": 5
}
